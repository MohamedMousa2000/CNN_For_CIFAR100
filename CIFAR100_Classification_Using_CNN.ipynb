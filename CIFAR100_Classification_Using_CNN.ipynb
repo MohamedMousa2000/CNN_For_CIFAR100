{
  "nbformat": 4,
  "nbformat_minor": 0,
  "metadata": {
    "colab": {
      "provenance": [],
      "authorship_tag": "ABX9TyPfJAnz0v+2YZyn83ki5hPY",
      "include_colab_link": true
    },
    "kernelspec": {
      "name": "python3",
      "display_name": "Python 3"
    },
    "language_info": {
      "name": "python"
    },
    "accelerator": "GPU",
    "gpuClass": "standard"
  },
  "cells": [
    {
      "cell_type": "markdown",
      "metadata": {
        "id": "view-in-github",
        "colab_type": "text"
      },
      "source": [
        "<a href=\"https://colab.research.google.com/github/MohamedMousa2000/CNN_For_CIFAR100/blob/main/CIFAR100_Classification_Using_CNN.ipynb\" target=\"_parent\"><img src=\"https://colab.research.google.com/assets/colab-badge.svg\" alt=\"Open In Colab\"/></a>"
      ]
    },
    {
      "cell_type": "code",
      "execution_count": null,
      "metadata": {
        "colab": {
          "base_uri": "https://localhost:8080/"
        },
        "id": "kKAbA84oyj_z",
        "outputId": "16b71f48-1ffa-406c-b8f3-6f5252c4db5e"
      },
      "outputs": [
        {
          "output_type": "stream",
          "name": "stdout",
          "text": [
            "2.9.2\n"
          ]
        }
      ],
      "source": [
        "#Important libraries\n",
        "import numpy as np\n",
        "import matplotlib.pyplot as plt\n",
        "import tensorflow as tf\n",
        "import cv2\n",
        "import albumentations as albu\n",
        "from skimage.transform import resize\n",
        "from tensorflow import keras as ks\n",
        "from tensorflow.keras.layers import BatchNormalization\n",
        "from keras.preprocessing.image import ImageDataGenerator\n",
        "from keras.optimizers import Adam, SGD\n",
        "from keras.callbacks import Callback, EarlyStopping, ReduceLROnPlateau\n",
        "from sklearn.metrics import classification_report, accuracy_score, confusion_matrix\n",
        "from skimage import color\n",
        "print(tf.__version__)"
      ]
    },
    {
      "cell_type": "code",
      "source": [
        "#Checking on the GPU\n",
        "device_name = tf.test.gpu_device_name()\n",
        "if device_name != '/device:GPU:0':\n",
        "  raise SystemError('GPU device not found')\n",
        "print('Found GPU at: {}'.format(device_name))"
      ],
      "metadata": {
        "colab": {
          "base_uri": "https://localhost:8080/"
        },
        "id": "f2yZaq1Z_bjd",
        "outputId": "0c8d4ad3-1c32-481e-ac11-208851961e7d"
      },
      "execution_count": null,
      "outputs": [
        {
          "output_type": "stream",
          "name": "stdout",
          "text": [
            "Found GPU at: /device:GPU:0\n"
          ]
        }
      ]
    },
    {
      "cell_type": "code",
      "source": [
        "#Connecting to the GPU\n",
        "import timeit\n",
        "\n",
        "device_name = tf.test.gpu_device_name()\n",
        "if device_name != '/device:GPU:0':\n",
        "  print(\n",
        "      '\\n\\nThis error most likely means that this notebook is not '\n",
        "      'configured to use a GPU.  Change this in Notebook Settings via the '\n",
        "      'command palette (cmd/ctrl-shift-P) or the Edit menu.\\n\\n')\n",
        "  raise SystemError('GPU device not found')\n",
        "\n",
        "def cpu():\n",
        "  with tf.device('/cpu:0'):\n",
        "    random_image_cpu = tf.random.normal((100, 100, 100, 3))\n",
        "    net_cpu = tf.keras.layers.Conv2D(32, 7)(random_image_cpu)\n",
        "    return tf.math.reduce_sum(net_cpu)\n",
        "\n",
        "def gpu():\n",
        "  with tf.device('/device:GPU:0'):\n",
        "    random_image_gpu = tf.random.normal((100, 100, 100, 3))\n",
        "    net_gpu = tf.keras.layers.Conv2D(32, 7)(random_image_gpu)\n",
        "    return tf.math.reduce_sum(net_gpu)\n",
        "  \n",
        "# We run each op once to warm up; see: https://stackoverflow.com/a/45067900\n",
        "cpu()\n",
        "gpu()\n",
        "\n",
        "# Run the op several times.\n",
        "print('Time (s) to convolve 32x7x7x3 filter over random 100x100x100x3 images '\n",
        "      '(batch x height x width x channel). Sum of ten runs.')\n",
        "print('CPU (s):')\n",
        "cpu_time = timeit.timeit('cpu()', number=10, setup=\"from __main__ import cpu\")\n",
        "print(cpu_time)\n",
        "print('GPU (s):')\n",
        "gpu_time = timeit.timeit('gpu()', number=10, setup=\"from __main__ import gpu\")\n",
        "print(gpu_time)\n",
        "print('GPU speedup over CPU: {}x'.format(int(cpu_time/gpu_time)))"
      ],
      "metadata": {
        "colab": {
          "base_uri": "https://localhost:8080/"
        },
        "id": "jKLf4vAU_vNJ",
        "outputId": "f61e3cbd-5ac9-46f6-c0c2-471e270228e7"
      },
      "execution_count": null,
      "outputs": [
        {
          "output_type": "stream",
          "name": "stdout",
          "text": [
            "Time (s) to convolve 32x7x7x3 filter over random 100x100x100x3 images (batch x height x width x channel). Sum of ten runs.\n",
            "CPU (s):\n",
            "3.096166911999944\n",
            "GPU (s):\n",
            "0.03779140500000722\n",
            "GPU speedup over CPU: 81x\n"
          ]
        }
      ]
    },
    {
      "cell_type": "code",
      "source": [
        "print(\"Num GPUs Available: \", len(tf.config.list_physical_devices('GPU')))"
      ],
      "metadata": {
        "colab": {
          "base_uri": "https://localhost:8080/"
        },
        "id": "-6qk_6WXA_2G",
        "outputId": "1ab7c29d-2069-424c-9f92-c3b1851c068a"
      },
      "execution_count": null,
      "outputs": [
        {
          "output_type": "stream",
          "name": "stdout",
          "text": [
            "Num GPUs Available:  1\n"
          ]
        }
      ]
    },
    {
      "cell_type": "code",
      "source": [
        "#Defining the variables\n",
        "batch_size = 50\n",
        "img_width, img_height, img_num_channels = 32, 32, 3\n",
        "loss_function = 'sparse_categorical_crossentropy'\n",
        "no_classes = 100\n",
        "no_epochs = 14\n",
        "optimizer = Adam(lr=0.0001)\n",
        "validation_split = 0.2\n",
        "verbosity = 1"
      ],
      "metadata": {
        "id": "28iBWTQCWyqC",
        "colab": {
          "base_uri": "https://localhost:8080/"
        },
        "outputId": "dc5b8eb0-9a70-4f9b-96fc-b883f08f7092"
      },
      "execution_count": null,
      "outputs": [
        {
          "output_type": "stream",
          "name": "stderr",
          "text": [
            "/usr/local/lib/python3.8/dist-packages/keras/optimizers/optimizer_v2/adam.py:110: UserWarning: The `lr` argument is deprecated, use `learning_rate` instead.\n",
            "  super(Adam, self).__init__(name, **kwargs)\n"
          ]
        }
      ]
    },
    {
      "cell_type": "code",
      "source": [
        "#Extracting the data from keras\n",
        "CIFAR100 = ks.datasets.cifar100\n",
        "(X_train, Y_train), (X_test, Y_test) = CIFAR100.load_data()"
      ],
      "metadata": {
        "id": "uBTPf7cF2c6V"
      },
      "execution_count": null,
      "outputs": []
    },
    {
      "cell_type": "code",
      "source": [
        "print(X_train.shape)\n",
        "plt.imshow(X_train[10])"
      ],
      "metadata": {
        "colab": {
          "base_uri": "https://localhost:8080/",
          "height": 301
        },
        "id": "Q_jnNP_VEtov",
        "outputId": "1a01fa53-1765-405b-c851-0d8262579a0c"
      },
      "execution_count": null,
      "outputs": [
        {
          "output_type": "stream",
          "name": "stdout",
          "text": [
            "(50000, 32, 32, 3)\n"
          ]
        },
        {
          "output_type": "execute_result",
          "data": {
            "text/plain": [
              "<matplotlib.image.AxesImage at 0x7f620358dcd0>"
            ]
          },
          "metadata": {},
          "execution_count": 23
        },
        {
          "output_type": "display_data",
          "data": {
            "text/plain": [
              "<Figure size 432x288 with 1 Axes>"
            ],
            "image/png": "[encoded data removed]"
          },
          "metadata": {
            "needs_background": "light"
          }
        }
      ]
    },
    {
      "cell_type": "code",
      "source": [
        "def compute_mean_std(cifar100_dataset):\n",
        "    \"\"\"compute the mean and std of cifar100 dataset\n",
        "    Args:\n",
        "        cifar100_training_dataset or cifar100_test_dataset\n",
        "        witch derived from class torch.utils.data\n",
        "    \n",
        "    Returns:\n",
        "        a tuple contains mean, std value of entire dataset\n",
        "    \"\"\"\n",
        "\n",
        "    data_r = np.dstack([cifar100_dataset[i][1][:, :, 0] for i in range(len(cifar100_dataset))])\n",
        "    data_g = np.dstack([cifar100_dataset[i][1][:, :, 1] for i in range(len(cifar100_dataset))])\n",
        "    data_b = np.dstack([cifar100_dataset[i][1][:, :, 2] for i in range(len(cifar100_dataset))])\n",
        "    mean   = np.mean(data_r), np.mean(data_g), np.mean(data_b)\n",
        "    std    = np.std(data_r), np.std(data_g), np.std(data_b)\n",
        "\n",
        "    return mean, std"
      ],
      "metadata": {
        "id": "9iCxEWEoSojS"
      },
      "execution_count": null,
      "outputs": []
    },
    {
      "cell_type": "code",
      "source": [
        "X_train = X_train / 255\n",
        "X_test = X_test / 255"
      ],
      "metadata": {
        "id": "lw6KfkJEYi3w"
      },
      "execution_count": null,
      "outputs": []
    },
    {
      "cell_type": "markdown",
      "source": [
        "***CNN Structure***"
      ],
      "metadata": {
        "id": "Et1q_GvAOGn9"
      }
    },
    {
      "cell_type": "code",
      "source": [
        "\n",
        "CNN_Model = ks.models.Sequential()\n",
        "CNN_Model.add(ks.layers.Conv2D(64,(3,3),activation='relu',input_shape=(32,32,3),data_format=\"channels_last\",padding='same',name='First_Layer_CONV'))"
      ],
      "metadata": {
        "id": "zGqgMLsFEt7g"
      },
      "execution_count": null,
      "outputs": []
    },
    {
      "cell_type": "code",
      "source": [
        "CNN_Model.add(ks.layers.MaxPool2D((2,2),name='1st_Max_Pooling'))"
      ],
      "metadata": {
        "id": "DvE4qUG3HwNn"
      },
      "execution_count": null,
      "outputs": []
    },
    {
      "cell_type": "code",
      "source": [
        "CNN_Model.add(ks.layers.Conv2D(128,(3,3),activation='relu',padding='same',name='Third_Layer_CONV'))"
      ],
      "metadata": {
        "id": "28YbbWYN5Y3x"
      },
      "execution_count": null,
      "outputs": []
    },
    {
      "cell_type": "code",
      "source": [
        "CNN_Model.add(ks.layers.MaxPool2D((2,2),name='2nd_Max_Pooling'))"
      ],
      "metadata": {
        "id": "cPmS6Zjj6EzF"
      },
      "execution_count": null,
      "outputs": []
    },
    {
      "cell_type": "code",
      "source": [
        "CNN_Model.add(ks.layers.Conv2D(256,(3,3),activation='relu',padding='same',name='Fifth_Layer_CONV'))"
      ],
      "metadata": {
        "id": "Wz_YFI6V6jky"
      },
      "execution_count": null,
      "outputs": []
    },
    {
      "cell_type": "code",
      "source": [
        "CNN_Model.add(ks.layers.MaxPool2D((2,2),name='3rd_Max_Pooling'))"
      ],
      "metadata": {
        "id": "QGjllhu16uHq"
      },
      "execution_count": null,
      "outputs": []
    },
    {
      "cell_type": "code",
      "source": [
        "CNN_Model.add(ks.layers.Flatten(name='FC'))\n",
        "CNN_Model.add(ks.layers.Dense(512,activation='relu',name='First_Hidden_Layer'))\n",
        "CNN_Model.add(ks.layers.BatchNormalization())\n",
        "CNN_Model.add(ks.layers.Dense(256,activation='relu',name='Second_Hidden_Layer'))\n",
        "CNN_Model.add(ks.layers.Dense(100,activation='softmax',name='Output_Layer'))"
      ],
      "metadata": {
        "id": "ln-kfA6rIvl_"
      },
      "execution_count": null,
      "outputs": []
    },
    {
      "cell_type": "code",
      "source": [
        "CNN_Model.summary()"
      ],
      "metadata": {
        "id": "UsG8JtlfJYiQ",
        "colab": {
          "base_uri": "https://localhost:8080/"
        },
        "outputId": "e752e315-d663-46a3-9b76-842be850ad70"
      },
      "execution_count": null,
      "outputs": [
        {
          "output_type": "stream",
          "name": "stdout",
          "text": [
            "Model: \"sequential_4\"\n",
            "_________________________________________________________________\n",
            " Layer (type)                Output Shape              Param #   \n",
            "=================================================================\n",
            " First_Layer_CONV (Conv2D)   (None, 32, 32, 64)        1792      \n",
            "                                                                 \n",
            " 1st_Max_Pooling (MaxPooling  (None, 16, 16, 64)       0         \n",
            " 2D)                                                             \n",
            "                                                                 \n",
            " Third_Layer_CONV (Conv2D)   (None, 16, 16, 128)       73856     \n",
            "                                                                 \n",
            " 2nd_Max_Pooling (MaxPooling  (None, 8, 8, 128)        0         \n",
            " 2D)                                                             \n",
            "                                                                 \n",
            " Fifth_Layer_CONV (Conv2D)   (None, 8, 8, 256)         295168    \n",
            "                                                                 \n",
            " 3rd_Max_Pooling (MaxPooling  (None, 4, 4, 256)        0         \n",
            " 2D)                                                             \n",
            "                                                                 \n",
            " FC (Flatten)                (None, 4096)              0         \n",
            "                                                                 \n",
            " First_Hidden_Layer (Dense)  (None, 512)               2097664   \n",
            "                                                                 \n",
            " batch_normalization_4 (Batc  (None, 512)              2048      \n",
            " hNormalization)                                                 \n",
            "                                                                 \n",
            " Second_Hidden_Layer (Dense)  (None, 256)              131328    \n",
            "                                                                 \n",
            " Output_Layer (Dense)        (None, 100)               25700     \n",
            "                                                                 \n",
            "=================================================================\n",
            "Total params: 2,627,556\n",
            "Trainable params: 2,626,532\n",
            "Non-trainable params: 1,024\n",
            "_________________________________________________________________\n"
          ]
        }
      ]
    },
    {
      "cell_type": "code",
      "source": [
        "#early stopping to monitor the validation loss and avoid overfitting\n",
        "early_stop = EarlyStopping(monitor='val_loss', mode='min', verbose=1, patience=10, restore_best_weights=True)\n",
        "\n",
        "#reducing learning rate on plateau\n",
        "rlrop = ReduceLROnPlateau(monitor='val_loss', mode='min', patience= 5, factor= 0.5, min_lr= 1e-6, verbose=1)\n"
      ],
      "metadata": {
        "id": "s0DYD9Evok3w"
      },
      "execution_count": null,
      "outputs": []
    },
    {
      "cell_type": "code",
      "source": [
        "CNN_Model.compile(optimizer='adam',loss='sparse_categorical_crossentropy',metrics=['accuracy'])"
      ],
      "metadata": {
        "id": "mlQDb2jSKTJ1"
      },
      "execution_count": null,
      "outputs": []
    },
    {
      "cell_type": "code",
      "source": [
        "History_Of_Training = CNN_Model.fit(X_train,Y_train,epochs=no_epochs,batch_size=batch_size,verbose=verbosity,validation_split=validation_split,callbacks = [early_stop, rlrop])"
      ],
      "metadata": {
        "colab": {
          "base_uri": "https://localhost:8080/"
        },
        "id": "EJzeeDEQK68h",
        "outputId": "f2bace33-8479-41a8-b106-45a0b2b51ae0"
      },
      "execution_count": null,
      "outputs": [
        {
          "output_type": "stream",
          "name": "stdout",
          "text": [
            "Epoch 1/14\n",
            "800/800 [==============================] - 7s 8ms/step - loss: 3.4752 - accuracy: 0.1758 - val_loss: 3.6247 - val_accuracy: 0.1791 - lr: 0.0010\n",
            "Epoch 2/14\n",
            "800/800 [==============================] - 6s 7ms/step - loss: 2.6794 - accuracy: 0.3179 - val_loss: 3.0321 - val_accuracy: 0.2671 - lr: 0.0010\n",
            "Epoch 3/14\n",
            "800/800 [==============================] - 5s 7ms/step - loss: 2.2921 - accuracy: 0.3979 - val_loss: 2.5697 - val_accuracy: 0.3439 - lr: 0.0010\n",
            "Epoch 4/14\n",
            "800/800 [==============================] - 5s 7ms/step - loss: 2.0290 - accuracy: 0.4587 - val_loss: 2.7120 - val_accuracy: 0.3423 - lr: 0.0010\n",
            "Epoch 5/14\n",
            "800/800 [==============================] - 5s 7ms/step - loss: 1.7986 - accuracy: 0.5091 - val_loss: 2.5814 - val_accuracy: 0.3709 - lr: 0.0010\n",
            "Epoch 6/14\n",
            "800/800 [==============================] - 5s 7ms/step - loss: 1.5899 - accuracy: 0.5606 - val_loss: 2.4098 - val_accuracy: 0.4092 - lr: 0.0010\n",
            "Epoch 7/14\n",
            "800/800 [==============================] - 6s 7ms/step - loss: 1.3918 - accuracy: 0.6071 - val_loss: 2.8880 - val_accuracy: 0.3708 - lr: 0.0010\n",
            "Epoch 8/14\n",
            "800/800 [==============================] - 5s 7ms/step - loss: 1.1959 - accuracy: 0.6514 - val_loss: 2.8489 - val_accuracy: 0.3922 - lr: 0.0010\n",
            "Epoch 9/14\n",
            "800/800 [==============================] - 6s 7ms/step - loss: 1.0199 - accuracy: 0.7015 - val_loss: 2.7735 - val_accuracy: 0.4086 - lr: 0.0010\n",
            "Epoch 10/14\n",
            "800/800 [==============================] - 6s 8ms/step - loss: 0.8528 - accuracy: 0.7441 - val_loss: 2.8951 - val_accuracy: 0.4008 - lr: 0.0010\n",
            "Epoch 11/14\n",
            "792/800 [============================>.] - ETA: 0s - loss: 0.7030 - accuracy: 0.7856\n",
            "Epoch 11: ReduceLROnPlateau reducing learning rate to 0.0005000000237487257.\n",
            "800/800 [==============================] - 5s 7ms/step - loss: 0.7043 - accuracy: 0.7852 - val_loss: 3.3547 - val_accuracy: 0.3848 - lr: 0.0010\n",
            "Epoch 12/14\n",
            "800/800 [==============================] - 5s 7ms/step - loss: 0.3650 - accuracy: 0.8956 - val_loss: 2.9732 - val_accuracy: 0.4359 - lr: 5.0000e-04\n",
            "Epoch 13/14\n",
            "800/800 [==============================] - 5s 7ms/step - loss: 0.2526 - accuracy: 0.9300 - val_loss: 3.2641 - val_accuracy: 0.4293 - lr: 5.0000e-04\n",
            "Epoch 14/14\n",
            "800/800 [==============================] - 5s 7ms/step - loss: 0.1940 - accuracy: 0.9469 - val_loss: 3.4362 - val_accuracy: 0.4290 - lr: 5.0000e-04\n"
          ]
        }
      ]
    },
    {
      "cell_type": "code",
      "source": [
        "Training_Loss, Training_Accuracy = CNN_Model.evaluate(X_train,Y_train)\n",
        "print(f\"Accuracy = {round(float(Training_Accuracy),2)}\")"
      ],
      "metadata": {
        "colab": {
          "base_uri": "https://localhost:8080/"
        },
        "id": "p0LS31o9LEan",
        "outputId": "39b56f1a-0f54-4030-abcc-f8cf0c716e49"
      },
      "execution_count": null,
      "outputs": [
        {
          "output_type": "stream",
          "name": "stdout",
          "text": [
            "1563/1563 [==============================] - 6s 3ms/step - loss: 0.8093 - accuracy: 0.8533\n",
            "Accuracy = 0.85\n"
          ]
        }
      ]
    },
    {
      "cell_type": "code",
      "source": [
        "Test_Loss, Test_Accuracy = CNN_Model.evaluate(X_test,Y_test)\n",
        "print(f\"Accuracy = {round(float(Test_Accuracy),2)}\")"
      ],
      "metadata": {
        "colab": {
          "base_uri": "https://localhost:8080/"
        },
        "id": "ffM6Yr-UVk4X",
        "outputId": "d62360f5-36bd-4e35-903f-1f4efab94e94"
      },
      "execution_count": null,
      "outputs": [
        {
          "output_type": "stream",
          "name": "stdout",
          "text": [
            "313/313 [==============================] - 1s 3ms/step - loss: 3.4162 - accuracy: 0.4357\n",
            "Accuracy = 0.44\n"
          ]
        }
      ]
    },
    {
      "cell_type": "code",
      "source": [
        "score = CNN_Model.evaluate(X_test, Y_test, verbose=0)\n",
        "print(f'Test loss: {score[0]} / Test accuracy: {score[1]}')\n",
        "\n",
        "# Visualize history\n",
        "# Plot history: Loss\n",
        "plt.plot(History_Of_Training.history['val_loss'])\n",
        "plt.plot(History_Of_Training.history['loss'])\n",
        "plt.title('Train Vs Validation loss history')\n",
        "plt.ylabel('Loss value')\n",
        "plt.xlabel('No. epoch')\n",
        "plt.show()\n",
        "\n",
        "# Plot history: Accuracy\n",
        "plt.plot(History_Of_Training.history['val_accuracy'])\n",
        "plt.plot(History_Of_Training.history['accuracy'])\n",
        "plt.title('Train Vs Validation accuracy history')\n",
        "plt.ylabel('Accuracy value (%)')\n",
        "plt.xlabel('No. epoch')\n",
        "plt.show()"
      ],
      "metadata": {
        "id": "sDqdJttVVxXW",
        "colab": {
          "base_uri": "https://localhost:8080/",
          "height": 590
        },
        "outputId": "266e8041-58fc-43b5-dec0-896e2aa9cf0d"
      },
      "execution_count": null,
      "outputs": [
        {
          "output_type": "stream",
          "name": "stdout",
          "text": [
            "Test loss: 3.416168689727783 / Test accuracy: 0.435699999332428\n"
          ]
        },
        {
          "output_type": "display_data",
          "data": {
            "text/plain": [
              "<Figure size 432x288 with 1 Axes>"
            ],
            "image/png": "[encoded data removed]"
          },
          "metadata": {
            "needs_background": "light"
          }
        },
        {
          "output_type": "display_data",
          "data": {
            "text/plain": [
              "<Figure size 432x288 with 1 Axes>"
            ],
            "image/png": "[encoded data removed]"
          },
          "metadata": {
            "needs_background": "light"
          }
        }
      ]
    },
    {
      "cell_type": "code",
      "source": [
        "Predictions = CNN_Model.predict(X_test)"
      ],
      "metadata": {
        "id": "L0Kliw4rfAIV",
        "colab": {
          "base_uri": "https://localhost:8080/"
        },
        "outputId": "0b9e09b3-0d63-466c-e4aa-f30a0c50dfd2"
      },
      "execution_count": null,
      "outputs": [
        {
          "output_type": "stream",
          "name": "stdout",
          "text": [
            "313/313 [==============================] - 1s 2ms/step\n"
          ]
        }
      ]
    },
    {
      "cell_type": "code",
      "source": [
        "Predictions = np.argmax(Predictions, axis=1)"
      ],
      "metadata": {
        "id": "8gEYCZJCLqwc"
      },
      "execution_count": null,
      "outputs": []
    },
    {
      "cell_type": "code",
      "source": [
        "print(\"Classification Report:\")\n",
        "print(classification_report(Predictions, Y_test))\n",
        "print(\"------------------------------------------------------\")\n",
        "print(\"Confussion Matrix:\")\n",
        "print(confusion_matrix(Predictions, Y_test))\n",
        "print(\"------------------------------------------------------\")\n",
        "print(\"Accuracy:\", accuracy_score(Predictions, Y_test)*100, \"%\")"
      ],
      "metadata": {
        "colab": {
          "base_uri": "https://localhost:8080/"
        },
        "id": "D_F2MavEMHmF",
        "outputId": "8244a4db-3498-4875-e10c-2ac444b8d3d0"
      },
      "execution_count": null,
      "outputs": [
        {
          "output_type": "stream",
          "name": "stdout",
          "text": [
            "Classification Report:\n",
            "              precision    recall  f1-score   support\n",
            "\n",
            "           0       0.81      0.55      0.66       147\n",
            "           1       0.36      0.68      0.47        53\n",
            "           2       0.28      0.23      0.25       124\n",
            "           3       0.22      0.21      0.21       106\n",
            "           4       0.28      0.30      0.29        94\n",
            "           5       0.37      0.42      0.39        88\n",
            "           6       0.58      0.48      0.52       121\n",
            "           7       0.35      0.59      0.44        59\n",
            "           8       0.49      0.70      0.58        70\n",
            "           9       0.62      0.43      0.51       145\n",
            "          10       0.33      0.29      0.31       112\n",
            "          11       0.26      0.24      0.25       107\n",
            "          12       0.36      0.50      0.42        72\n",
            "          13       0.46      0.44      0.45       105\n",
            "          14       0.24      0.48      0.32        50\n",
            "          15       0.47      0.31      0.37       152\n",
            "          16       0.44      0.45      0.44        98\n",
            "          17       0.72      0.60      0.65       120\n",
            "          18       0.20      0.54      0.29        37\n",
            "          19       0.42      0.25      0.32       165\n",
            "          20       0.74      0.64      0.69       115\n",
            "          21       0.62      0.60      0.61       104\n",
            "          22       0.42      0.49      0.45        85\n",
            "          23       0.56      0.63      0.59        89\n",
            "          24       0.59      0.67      0.63        88\n",
            "          25       0.39      0.24      0.29       165\n",
            "          26       0.31      0.35      0.33        88\n",
            "          27       0.24      0.26      0.25        93\n",
            "          28       0.75      0.68      0.71       111\n",
            "          29       0.47      0.43      0.45       110\n",
            "          30       0.39      0.46      0.42        84\n",
            "          31       0.39      0.31      0.34       127\n",
            "          32       0.37      0.53      0.44        70\n",
            "          33       0.40      0.54      0.46        74\n",
            "          34       0.31      0.35      0.33        89\n",
            "          35       0.22      0.21      0.22       104\n",
            "          36       0.48      0.25      0.33       190\n",
            "          37       0.45      0.47      0.46        96\n",
            "          38       0.42      0.19      0.26       218\n",
            "          39       0.60      0.67      0.63        89\n",
            "          40       0.35      0.32      0.34       108\n",
            "          41       0.68      0.59      0.63       116\n",
            "          42       0.36      0.37      0.36        98\n",
            "          43       0.46      0.46      0.46       101\n",
            "          44       0.15      0.16      0.16        92\n",
            "          45       0.19      0.37      0.25        52\n",
            "          46       0.25      0.26      0.25        97\n",
            "          47       0.54      0.55      0.54        99\n",
            "          48       0.72      0.73      0.72        99\n",
            "          49       0.51      0.74      0.60        69\n",
            "          50       0.20      0.26      0.23        77\n",
            "          51       0.39      0.35      0.37       110\n",
            "          52       0.56      0.60      0.58        94\n",
            "          53       0.63      0.60      0.61       105\n",
            "          54       0.49      0.68      0.57        72\n",
            "          55       0.12      0.18      0.14        68\n",
            "          56       0.62      0.65      0.64        95\n",
            "          57       0.50      0.43      0.47       115\n",
            "          58       0.56      0.47      0.51       119\n",
            "          59       0.50      0.34      0.41       146\n",
            "          60       0.83      0.67      0.74       124\n",
            "          61       0.48      0.56      0.52        86\n",
            "          62       0.54      0.49      0.51       110\n",
            "          63       0.46      0.36      0.41       127\n",
            "          64       0.13      0.12      0.13       104\n",
            "          65       0.26      0.24      0.25       108\n",
            "          66       0.32      0.35      0.33        92\n",
            "          67       0.39      0.39      0.39       100\n",
            "          68       0.69      0.72      0.70        96\n",
            "          69       0.66      0.74      0.70        89\n",
            "          70       0.46      0.48      0.47        95\n",
            "          71       0.78      0.43      0.56       180\n",
            "          72       0.19      0.15      0.17       125\n",
            "          73       0.34      0.39      0.36        87\n",
            "          74       0.18      0.36      0.24        50\n",
            "          75       0.67      0.68      0.68        98\n",
            "          76       0.63      0.79      0.70        80\n",
            "          77       0.19      0.50      0.28        38\n",
            "          78       0.32      0.29      0.30       110\n",
            "          79       0.36      0.59      0.45        61\n",
            "          80       0.11      0.20      0.14        56\n",
            "          81       0.55      0.48      0.51       114\n",
            "          82       0.71      0.74      0.72        96\n",
            "          83       0.32      0.51      0.39        63\n",
            "          84       0.29      0.38      0.33        76\n",
            "          85       0.58      0.41      0.48       142\n",
            "          86       0.52      0.57      0.54        92\n",
            "          87       0.50      0.47      0.49       106\n",
            "          88       0.22      0.44      0.29        50\n",
            "          89       0.54      0.45      0.49       120\n",
            "          90       0.41      0.39      0.40       105\n",
            "          91       0.51      0.61      0.56        83\n",
            "          92       0.36      0.37      0.37        97\n",
            "          93       0.21      0.27      0.24        78\n",
            "          94       0.81      0.64      0.72       126\n",
            "          95       0.45      0.54      0.49        83\n",
            "          96       0.43      0.38      0.40       114\n",
            "          97       0.41      0.44      0.42        93\n",
            "          98       0.23      0.17      0.20       135\n",
            "          99       0.39      0.60      0.47        65\n",
            "\n",
            "    accuracy                           0.44     10000\n",
            "   macro avg       0.44      0.45      0.43     10000\n",
            "weighted avg       0.46      0.44      0.44     10000\n",
            "\n",
            "------------------------------------------------------\n",
            "Confussion Matrix:\n",
            "[[81  2  3 ...  0  0  1]\n",
            " [ 1 36  0 ...  0  0  0]\n",
            " [ 1  1 28 ...  0 10  0]\n",
            " ...\n",
            " [ 0  0  0 ... 41  1  1]\n",
            " [ 1  0 13 ...  2 23  0]\n",
            " [ 0  1  0 ...  0  0 39]]\n",
            "------------------------------------------------------\n",
            "Accuracy: 43.59 %\n"
          ]
        }
      ]
    },
    {
      "cell_type": "code",
      "source": [
        "plt.imshow(confusion_matrix(Predictions, Y_test))"
      ],
      "metadata": {
        "colab": {
          "base_uri": "https://localhost:8080/",
          "height": 285
        },
        "id": "4Ky-TtxNOYLM",
        "outputId": "9ed17b5a-24ec-4994-cdb7-17de1ec0d10e"
      },
      "execution_count": null,
      "outputs": [
        {
          "output_type": "execute_result",
          "data": {
            "text/plain": [
              "<matplotlib.image.AxesImage at 0x7f6391ec41c0>"
            ]
          },
          "metadata": {},
          "execution_count": 76
        },
        {
          "output_type": "display_data",
          "data": {
            "text/plain": [
              "<Figure size 432x288 with 1 Axes>"
            ],
            "image/png": "[encoded data removed]"
          },
          "metadata": {
            "needs_background": "light"
          }
        }
      ]
    },
    {
      "cell_type": "code",
      "source": [],
      "metadata": {
        "id": "rWlMgeOlOlJ_"
      },
      "execution_count": null,
      "outputs": []
    }
  ]
}